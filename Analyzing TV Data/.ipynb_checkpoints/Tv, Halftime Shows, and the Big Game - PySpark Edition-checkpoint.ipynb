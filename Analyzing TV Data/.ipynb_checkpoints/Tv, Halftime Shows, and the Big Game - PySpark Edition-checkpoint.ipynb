{
 "cells": [
  {
   "cell_type": "markdown",
   "metadata": {
    "dc": {
     "key": "3"
    },
    "deletable": false,
    "editable": false,
    "run_control": {
     "frozen": true
    },
    "tags": [
     "context"
    ]
   },
   "source": [
    "## 1. TV, halftime shows, and the Big Game\n",
    "<p>Whether or not you like football, the Super Bowl is a spectacle. There's a little something for everyone at your Super Bowl party. Drama in the form of blowouts, comebacks, and controversy for the sports fan. There are the ridiculously expensive ads, some hilarious, others gut-wrenching, thought-provoking, and weird. The half-time shows with the biggest musicians in the world, sometimes <a href=\"https://youtu.be/ZD1QrIe--_Y?t=14\">riding giant mechanical tigers</a> or <a href=\"https://youtu.be/mjrdywp5nyE?t=62\">leaping from the roof of the stadium</a>. It's a show, baby. And in this notebook, we're going to find out how some of the elements of this show interact with each other. After exploring and cleaning our data a little, we're going to answer questions like:</p>\n",
    "<ul>\n",
    "<li>What are the most extreme game outcomes?</li>\n",
    "<li>How does the game affect television viewership?</li>\n",
    "<li>How have viewership, TV ratings, and ad cost evolved over time?</li>\n",
    "<li>Who are the most prolific musicians in terms of halftime show performances?</li>\n",
    "</ul>\n",
    "<p><img src=\"https://assets.datacamp.com/production/project_684/img/left_shark.jpg\" alt=\"Left Shark Steals The Show\">\n",
    "<em><a href=\"https://www.flickr.com/photos/huntleypaton/16464994135/in/photostream/\">Left Shark Steals The Show</a>. Katy Perry performing at halftime of Super Bowl XLIX. Photo by Huntley Paton. Attribution-ShareAlike 2.0 Generic (CC BY-SA 2.0).</em></p>\n",
    "<p>The dataset we'll use was <a href=\"https://en.wikipedia.org/wiki/Web_scraping\">scraped</a> and polished from Wikipedia. It is made up of three CSV files, one with <a href=\"https://en.wikipedia.org/wiki/List_of_Super_Bowl_champions\">game data</a>, one with <a href=\"https://en.wikipedia.org/wiki/Super_Bowl_television_ratings\">TV data</a>, and one with <a href=\"https://en.wikipedia.org/wiki/List_of_Super_Bowl_halftime_shows\">halftime musician data</a> for all 52 Super Bowls through 2018. Let's take a look, using <code>display()</code> instead of <code>print()</code> since its output is much prettier in Jupyter Notebooks.</p>"
   ]
  },
  {
   "cell_type": "code",
   "execution_count": 2,
   "metadata": {
    "dc": {
     "key": "3"
    },
    "tags": [
     "sample_code"
    ]
   },
   "outputs": [],
   "source": [
    "from pyspark.sql import SparkSession\n",
    "import pandas as pd\n",
    "import numpy as np\n",
    "import time\n",
    "\n",
    "spark = SparkSession.builder.master('local').appName('spark-cluster').getOrCreate()"
   ]
  },
  {
   "cell_type": "code",
   "execution_count": 3,
   "metadata": {},
   "outputs": [],
   "source": [
    "super_bowls = spark.read.csv('super_bowls.csv', header=True)\n",
    "tv = spark.read.csv('tv.csv', header = True)\n",
    "halftime_musicians = spark.read.csv('halftime_musicians.csv', header=True)"
   ]
  },
  {
   "cell_type": "code",
   "execution_count": 4,
   "metadata": {},
   "outputs": [
    {
     "name": "stdout",
     "output_type": "stream",
     "text": [
      "+----------+----------+--------------------+---------------+----------+----------+--------------------+-----------+------------------+-----------+--------------+--------------------+----------+------------------+----------+--------------+------------+--------------+\n",
      "|      date|super_bowl|               venue|           city|     state|attendance|         team_winner|winning_pts|       qb_winner_1|qb_winner_2|  coach_winner|          team_loser|losing_pts|        qb_loser_1|qb_loser_2|   coach_loser|combined_pts|difference_pts|\n",
      "+----------+----------+--------------------+---------------+----------+----------+--------------------+-----------+------------------+-----------+--------------+--------------------+----------+------------------+----------+--------------+------------+--------------+\n",
      "|2018-02-04|        52|   U.S. Bank Stadium|    Minneapolis| Minnesota|     67612| Philadelphia Eagles|         41|        Nick Foles|       null| Doug Pederson|New England Patriots|        33|         Tom Brady|      null|Bill Belichick|          74|             8|\n",
      "|2017-02-05|        51|         NRG Stadium|        Houston|     Texas|     70807|New England Patriots|         34|         Tom Brady|       null|Bill Belichick|     Atlanta Falcons|        28|         Matt Ryan|      null|     Dan Quinn|          62|             6|\n",
      "|2016-02-07|        50|      Levi's Stadium|    Santa Clara|California|     71088|      Denver Broncos|         24|    Peyton Manning|       null|   Gary Kubiak|   Carolina Panthers|        10|        Cam Newton|      null|    Ron Rivera|          34|            14|\n",
      "|2015-02-01|        49|University of Pho...|       Glendale|   Arizona|     70288|New England Patriots|         28|         Tom Brady|       null|Bill Belichick|    Seattle Seahawks|        24|    Russell Wilson|      null|  Pete Carroll|          52|             4|\n",
      "|2014-02-02|        48|     MetLife Stadium|East Rutherford|New Jersey|     82529|    Seattle Seahawks|         43|    Russell Wilson|       null|  Pete Carroll|      Denver Broncos|         8|    Peyton Manning|      null|      John Fox|          51|            35|\n",
      "|2013-02-03|        47|Mercedes-Benz Sup...|    New Orleans| Louisiana|     71024|    Baltimore Ravens|         34|        Joe Flacco|       null| John Harbaugh| San Francisco 49ers|        31|  Colin Kaepernick|      null|  Jim Harbaugh|          65|             3|\n",
      "|2012-02-05|        46|   Lucas Oil Stadium|   Indianapolis|   Indiana|     68658|     New York Giants|         21|       Eli Manning|       null|  Tom Coughlin|New England Patriots|        17|         Tom Brady|      null|Bill Belichick|          38|             4|\n",
      "|2011-02-06|        45|     Cowboys Stadium|      Arlington|     Texas|    103219|   Green Bay Packers|         31|     Aaron Rodgers|       null| Mike McCarthy| Pittsburgh Steelers|        25|Ben Roethlisberger|      null|   Mike Tomlin|          56|             6|\n",
      "|2010-02-07|        44|    Sun Life Stadium|  Miami Gardens|   Florida|     74059|  New Orleans Saints|         31|        Drew Brees|       null|   Sean Payton|  Indianapolis Colts|        17|    Peyton Manning|      null|  Jim Caldwell|          48|            14|\n",
      "|2009-02-01|        43|Raymond James Sta...|          Tampa|   Florida|     70774| Pittsburgh Steelers|         27|Ben Roethlisberger|       null|   Mike Tomlin|   Arizona Cardinals|        23|       Kurt Warner|      null|Ken Whisenhunt|          50|             4|\n",
      "|2008-02-03|        42|University of Pho...|       Glendale|   Arizona|     71101|     New York Giants|         17|       Eli Manning|       null|  Tom Coughlin|New England Patriots|        14|         Tom Brady|      null|Bill Belichick|          31|             3|\n",
      "|2007-02-04|        41|     Dolphin Stadium|  Miami Gardens|   Florida|     74512|  Indianapolis Colts|         29|    Peyton Manning|       null|    Tony Dungy|       Chicago Bears|        17|      Rex Grossman|      null|   Lovie Smith|          46|            12|\n",
      "|2006-02-05|        40|          Ford Field|        Detroit|  Michigan|     68206| Pittsburgh Steelers|         21|Ben Roethlisberger|       null|   Bill Cowher|    Seattle Seahawks|        10|   Matt Hasselbeck|      null| Mike Holmgren|          31|            11|\n",
      "|2005-02-06|        39|      Alltel Stadium|   Jacksonville|   Florida|     78125|New England Patriots|         24|         Tom Brady|       null|Bill Belichick| Philadelphia Eagles|        21|    Donovan McNabb|      null|     Andy Reid|          45|             3|\n",
      "|2004-02-01|        38|     Reliant Stadium|        Houston|     Texas|     71525|New England Patriots|         32|         Tom Brady|       null|Bill Belichick|   Carolina Panthers|        29|     Jake Delhomme|      null|      John Fox|          61|             3|\n",
      "|2003-01-26|        37|    Qualcomm Stadium|      San Diego|California|     67603|Tampa Bay Buccaneers|         48|      Brad Johnson|       null|    Jon Gruden|     Oakland Raiders|        21|       Rich Gannon|      null| Bill Callahan|          69|            27|\n",
      "|2002-02-03|        36| Louisiana Superdome|    New Orleans| Louisiana|     72922|New England Patriots|         20|         Tom Brady|       null|Bill Belichick|      St. Louis Rams|        17|       Kurt Warner|      null|    Mike Martz|          37|             3|\n",
      "|2001-01-28|        35|Raymond James Sta...|          Tampa|   Florida|     71921|    Baltimore Ravens|         34|      Trent Dilfer|       null| Brian Billick|     New York Giants|         7|     Kerry Collins|      null|    Jim Fassel|          41|            27|\n",
      "|2000-01-30|        34|        Georgia Dome|        Atlanta|   Georgia|     72625|      St. Louis Rams|         23|       Kurt Warner|       null|  Dick Vermeil|    Tennessee Titans|        16|      Steve McNair|      null|   Jeff Fisher|          39|             7|\n",
      "|1999-01-31|        33|  Pro Player Stadium|  Miami Gardens|   Florida|     74803|      Denver Broncos|         34|        John Elway|       null| Mike Shanahan|     Atlanta Falcons|        19|    Chris Chandler|      null|    Dan Reeves|          53|            15|\n",
      "+----------+----------+--------------------+---------------+----------+----------+--------------------+-----------+------------------+-----------+--------------+--------------------+----------+------------------+----------+--------------+------------+--------------+\n",
      "only showing top 20 rows\n",
      "\n"
     ]
    },
    {
     "data": {
      "text/plain": [
       "None"
      ]
     },
     "metadata": {},
     "output_type": "display_data"
    },
    {
     "name": "stdout",
     "output_type": "stream",
     "text": [
      "+----------+-------+--------------+----------------+----------------+---------------+------------+-----------+-------+\n",
      "|super_bowl|network|avg_us_viewers|total_us_viewers|rating_household|share_household|rating_18_49|share_18_49|ad_cost|\n",
      "+----------+-------+--------------+----------------+----------------+---------------+------------+-----------+-------+\n",
      "|        52|    NBC|     103390000|            null|            43.1|             68|        33.4|         78|5000000|\n",
      "|        51|    Fox|     111319000|       172000000|            45.3|             73|        37.1|         79|5000000|\n",
      "|        50|    CBS|     111864000|       167000000|            46.6|             72|        37.7|         79|5000000|\n",
      "|        49|    NBC|     114442000|       168000000|            47.5|             71|        39.1|         79|4500000|\n",
      "|        48|    Fox|     112191000|       167000000|            46.7|             69|        39.3|         77|4000000|\n",
      "|        47|    CBS|     108693000|       164100000|            46.3|             69|        39.7|         77|4000000|\n",
      "|        46|    NBC|     111346000|       163500000|              47|             71|        40.5|       null|3500000|\n",
      "|        45|    Fox|     111041000|       162900000|              46|             69|        39.9|       null|3100000|\n",
      "|        44|    CBS|     106476000|       153400000|              45|             68|        38.6|       null|2800000|\n",
      "|        43|    NBC|      98732000|       151600000|              42|             64|        36.7|       null|3000000|\n",
      "|        42|    Fox|      97448000|       148300000|            43.1|             65|        37.5|       null|2699963|\n",
      "|        41|    CBS|      93184000|       139800000|            42.6|             64|        35.2|       null|2385365|\n",
      "|        40|    ABC|      90745000|       141400000|            41.6|             62|        null|       null|2500000|\n",
      "|        39|    Fox|      86072000|            null|            41.1|             62|        null|       null|2400000|\n",
      "|        38|    CBS|      89795000|       144400000|            41.4|             63|        null|       null|2302200|\n",
      "|        37|    ABC|      88637000|       138500000|            40.7|             61|        null|       null|2200000|\n",
      "|        36|    Fox|      86801000|            null|            40.4|             61|        null|       null|2200000|\n",
      "|        35|    CBS|      84335000|            null|            40.4|             61|        null|       null|2200000|\n",
      "|        34|    ABC|      88465000|            null|            43.3|             63|        37.9|       null|2100000|\n",
      "|        33|    Fox|      83720000|            null|            40.2|             61|        36.4|       null|1600000|\n",
      "+----------+-------+--------------+----------------+----------------+---------------+------------+-----------+-------+\n",
      "only showing top 20 rows\n",
      "\n"
     ]
    },
    {
     "data": {
      "text/plain": [
       "None"
      ]
     },
     "metadata": {},
     "output_type": "display_data"
    },
    {
     "name": "stdout",
     "output_type": "stream",
     "text": [
      "+----------+--------------------+---------+\n",
      "|super_bowl|            musician|num_songs|\n",
      "+----------+--------------------+---------+\n",
      "|        52|   Justin Timberlake|       11|\n",
      "|        52|University of Min...|        1|\n",
      "|        51|           Lady Gaga|        7|\n",
      "|        50|            Coldplay|        6|\n",
      "|        50|             Beyoncé|        3|\n",
      "|        50|          Bruno Mars|        3|\n",
      "|        50|         Mark Ronson|        1|\n",
      "|        50|University of Cal...|        3|\n",
      "|        50|Youth Orchestra L...|        3|\n",
      "|        50|     Gustavo Dudamel|        3|\n",
      "|        49|          Katy Perry|        8|\n",
      "|        49|       Lenny Kravitz|        1|\n",
      "|        49|       Missy Elliott|        3|\n",
      "|        49|Arizona State Uni...|     null|\n",
      "|        48|          Bruno Mars|        6|\n",
      "|        48|Red Hot Chili Pep...|        1|\n",
      "|        47|             Beyoncé|        7|\n",
      "|        47|     Destiny's Child|        2|\n",
      "|        47|       Kelly Rowland|        1|\n",
      "|        47|   Michelle Williams|        1|\n",
      "+----------+--------------------+---------+\n",
      "only showing top 20 rows\n",
      "\n"
     ]
    },
    {
     "data": {
      "text/plain": [
       "None"
      ]
     },
     "metadata": {},
     "output_type": "display_data"
    }
   ],
   "source": [
    "display(super_bowls.show())\n",
    "display(tv.show())\n",
    "display(halftime_musicians.show())"
   ]
  },
  {
   "cell_type": "markdown",
   "metadata": {
    "dc": {
     "key": "10"
    },
    "deletable": false,
    "editable": false,
    "run_control": {
     "frozen": true
    },
    "tags": [
     "context"
    ]
   },
   "source": [
    "## 2. Taking note of dataset issues\n",
    "<p>For the Super Bowl game data, we can see the dataset appears whole except for missing values in the backup quarterback columns (<code>qb_winner_2</code> and <code>qb_loser_2</code>), which make sense given most starting QBs in the Super Bowl (<code>qb_winner_1</code> and <code>qb_loser_1</code>) play the entire game.</p>\n",
    "<p>From the visual inspection of TV and halftime musicians data, there is only one missing value displayed, but I've got a hunch there are more. The Super Bowl goes all the way back to 1967, and the more granular columns (e.g. the number of songs for halftime musicians) probably weren't tracked reliably over time. Wikipedia is great but not perfect.</p>\n",
    "<p>An inspection of the <code>.info()</code> output for <code>tv</code> and <code>halftime_musicians</code> shows us that there are multiple columns with null values.</p>"
   ]
  },
  {
   "cell_type": "code",
   "execution_count": 5,
   "metadata": {
    "dc": {
     "key": "10"
    },
    "tags": [
     "sample_code"
    ]
   },
   "outputs": [
    {
     "name": "stdout",
     "output_type": "stream",
     "text": [
      "StructType(List(StructField(super_bowl,StringType,true),StructField(network,StringType,true),StructField(avg_us_viewers,StringType,true),StructField(total_us_viewers,StringType,true),StructField(rating_household,StringType,true),StructField(share_household,StringType,true),StructField(rating_18_49,StringType,true),StructField(share_18_49,StringType,true),StructField(ad_cost,StringType,true)))\n",
      "\n",
      "\n",
      "StructType(List(StructField(super_bowl,StringType,true),StructField(musician,StringType,true),StructField(num_songs,StringType,true)))\n"
     ]
    }
   ],
   "source": [
    "print(tv.schema)\n",
    "\n",
    "print('\\n')\n",
    "\n",
    "print(halftime_musicians.schema)"
   ]
  },
  {
   "cell_type": "markdown",
   "metadata": {
    "dc": {
     "key": "17"
    },
    "deletable": false,
    "editable": false,
    "run_control": {
     "frozen": true
    },
    "tags": [
     "context"
    ]
   },
   "source": [
    "## 3. Combined points distribution\n",
    "<p>For the TV data, the following columns have missing values and a lot of them:</p>\n",
    "<ul>\n",
    "<li><code>total_us_viewers</code> (amount of U.S. viewers who watched at least some part of the broadcast)</li>\n",
    "<li><code>rating_18_49</code> (average % of U.S. adults 18-49 who live in a household with a TV that were watching for the entire broadcast)</li>\n",
    "<li><code>share_18_49</code> (average % of U.S. adults 18-49 who live in a household with a TV <em>in use</em> that were watching for the entire broadcast)</li>\n",
    "</ul>\n",
    "<p>For the halftime musician data, there are missing numbers of songs performed (<code>num_songs</code>) for about a third of the performances.</p>\n",
    "<p>There are a lot of potential reasons for these missing values. Was the data ever tracked? Was it lost in history? Is the research effort to make this data whole worth it? Maybe. Watching every Super Bowl halftime show to get song counts would be pretty fun. But we don't have the time to do that kind of stuff now! Let's take note of where the dataset isn't perfect and start uncovering some insights.</p>\n",
    "<p>Let's start by looking at combined points for each Super Bowl by visualizing the distribution. Let's also pinpoint the Super Bowls with the highest and lowest scores.</p>"
   ]
  },
  {
   "cell_type": "code",
   "execution_count": 6,
   "metadata": {},
   "outputs": [],
   "source": [
    "from matplotlib import pyplot as plt\n",
    "%matplotlib inline"
   ]
  },
  {
   "cell_type": "code",
   "execution_count": 7,
   "metadata": {
    "dc": {
     "key": "17"
    },
    "tags": [
     "sample_code"
    ]
   },
   "outputs": [
    {
     "data": {
      "image/png": "[encoded data removed]",
      "text/plain": [
       "<Figure size 576x396 with 1 Axes>"
      ]
     },
     "metadata": {},
     "output_type": "display_data"
    },
    {
     "name": "stdout",
     "output_type": "stream",
     "text": [
      "+----------+----------+------------------+-------------+---------+----------+-------------------+-----------+-----------+-----------+--------------+--------------------+----------+--------------+----------+--------------+------------+--------------+\n",
      "|      date|super_bowl|             venue|         city|    state|attendance|        team_winner|winning_pts|qb_winner_1|qb_winner_2|  coach_winner|          team_loser|losing_pts|    qb_loser_1|qb_loser_2|   coach_loser|combined_pts|difference_pts|\n",
      "+----------+----------+------------------+-------------+---------+----------+-------------------+-----------+-----------+-----------+--------------+--------------------+----------+--------------+----------+--------------+------------+--------------+\n",
      "|2018-02-04|        52| U.S. Bank Stadium|  Minneapolis|Minnesota|     67612|Philadelphia Eagles|         41| Nick Foles|       null| Doug Pederson|New England Patriots|        33|     Tom Brady|      null|Bill Belichick|          74|             8|\n",
      "|1995-01-29|        29|Joe Robbie Stadium|Miami Gardens|  Florida|     74107|San Francisco 49ers|         49|Steve Young|       null|George Seifert|  San Diego Chargers|        26|Stan Humphreys|      null|    Bobby Ross|          75|            23|\n",
      "+----------+----------+------------------+-------------+---------+----------+-------------------+-----------+-----------+-----------+--------------+--------------------+----------+--------------+----------+--------------+------------+--------------+\n",
      "\n",
      "+----------+----------+-----------------+-----------+----------+----------+-------------------+-----------+--------------+-----------+------------+-------------------+----------+--------------+-------------+------------+------------+--------------+\n",
      "|      date|super_bowl|            venue|       city|     state|attendance|        team_winner|winning_pts|   qb_winner_1|qb_winner_2|coach_winner|         team_loser|losing_pts|    qb_loser_1|   qb_loser_2| coach_loser|combined_pts|difference_pts|\n",
      "+----------+----------+-----------------+-----------+----------+----------+-------------------+-----------+--------------+-----------+------------+-------------------+----------+--------------+-------------+------------+------------+--------------+\n",
      "|1975-01-12|         9|   Tulane Stadium|New Orleans| Louisiana|     80997|Pittsburgh Steelers|         16|Terry Bradshaw|       null|  Chuck Noll|  Minnesota Vikings|         6|Fran Tarkenton|         null|   Bud Grant|          22|            10|\n",
      "|1973-01-14|         7|Memorial Coliseum|Los Angeles|California|     90182|     Miami Dolphins|         14|    Bob Griese|       null|   Don Shula|Washington Redskins|         7|   Bill Kilmer|         null|George Allen|          21|             7|\n",
      "|1969-01-12|         3|      Orange Bowl|      Miami|   Florida|     75389|      New York Jets|         16|    Joe Namath|       null| Weeb Ewbank|    Baltimore Colts|         7|  Earl Morrall|Johnny Unitas|   Don Shula|          23|             9|\n",
      "+----------+----------+-----------------+-----------+----------+----------+-------------------+-----------+--------------+-----------+------------+-------------------+----------+--------------+-------------+------------+------------+--------------+\n",
      "\n"
     ]
    }
   ],
   "source": [
    "super_bowls_pandas = super_bowls.toPandas()\n",
    "\n",
    "plt.style.use('seaborn')\n",
    "\n",
    "plt.hist(super_bowls_pandas['combined_pts'])\n",
    "plt.xlabel('Combined_points')\n",
    "plt.ylabel('Number of Super Bowls')\n",
    "plt.show()\n",
    "\n",
    "super_bowls.filter(super_bowls.combined_pts > 70).show()\n",
    "super_bowls.filter(super_bowls.combined_pts < 25).show()"
   ]
  },
  {
   "cell_type": "markdown",
   "metadata": {
    "dc": {
     "key": "24"
    },
    "deletable": false,
    "editable": false,
    "run_control": {
     "frozen": true
    },
    "tags": [
     "context"
    ]
   },
   "source": [
    "## 4. Point difference distribution\n",
    "<p>Most combined scores are around 40-50 points, with the extremes being roughly equal distance away in opposite directions. Going up to the highest combined scores at 74 and 75, we find two games featuring dominant quarterback performances. One even happened recently in 2018's Super Bowl LII where Tom Brady's Patriots lost to Nick Foles' underdog Eagles 41-33 for a combined score of 74.</p>\n",
    "<p>Going down to the lowest combined scores, we have Super Bowl III and VII, which featured tough defenses that dominated. We also have Super Bowl IX in New Orleans in 1975, whose 16-6 score can be attributed to inclement weather. The field was slick from overnight rain, and it was cold at 46 °F (8 °C), making it hard for the Steelers and Vikings to do much offensively. This was the second-coldest Super Bowl ever and the last to be played in inclement weather for over 30 years. The NFL realized people like points, I guess.</p>\n",
    "<p><em>UPDATE: In Super Bowl LIII in 2019, the Patriots and Rams broke the record for the lowest-scoring Super Bowl with a combined score of 16 points (13-3 for the Patriots).</em></p>\n",
    "<p>Let's take a look at point <em>difference</em> now.</p>"
   ]
  },
  {
   "cell_type": "code",
   "execution_count": 8,
   "metadata": {
    "dc": {
     "key": "24"
    },
    "tags": [
     "sample_code"
    ]
   },
   "outputs": [
    {
     "data": {
      "image/png": "[encoded data removed]",
      "text/plain": [
       "<Figure size 576x396 with 1 Axes>"
      ]
     },
     "metadata": {},
     "output_type": "display_data"
    },
    {
     "name": "stdout",
     "output_type": "stream",
     "text": [
      "+----------+----------+-------------+-----+-------+----------+---------------+-----------+--------------+-----------+-------------+-------------+----------+----------+----------+-----------+------------+--------------+\n",
      "|      date|super_bowl|        venue| city|  state|attendance|    team_winner|winning_pts|   qb_winner_1|qb_winner_2| coach_winner|   team_loser|losing_pts|qb_loser_1|qb_loser_2|coach_loser|combined_pts|difference_pts|\n",
      "+----------+----------+-------------+-----+-------+----------+---------------+-----------+--------------+-----------+-------------+-------------+----------+----------+----------+-----------+------------+--------------+\n",
      "|1991-01-27|        25|Tampa Stadium|Tampa|Florida|     73813|New York Giants|         20|Jeff Hostetler|       null|Bill Parcells|Buffalo Bills|        19| Jim Kelly|      null|  Marv Levy|          39|             1|\n",
      "+----------+----------+-------------+-----+-------+----------+---------------+-----------+--------------+-----------+-------------+-------------+----------+----------+----------+-----------+------------+--------------+\n",
      "\n",
      "+----------+----------+-------------------+---------------+----------+----------+-------------------+-----------+--------------+-----------+--------------+--------------------+----------+--------------+------------+-------------+------------+--------------+\n",
      "|      date|super_bowl|              venue|           city|     state|attendance|        team_winner|winning_pts|   qb_winner_1|qb_winner_2|  coach_winner|          team_loser|losing_pts|    qb_loser_1|  qb_loser_2|  coach_loser|combined_pts|difference_pts|\n",
      "+----------+----------+-------------------+---------------+----------+----------+-------------------+-----------+--------------+-----------+--------------+--------------------+----------+--------------+------------+-------------+------------+--------------+\n",
      "|2014-02-02|        48|    MetLife Stadium|East Rutherford|New Jersey|     82529|   Seattle Seahawks|         43|Russell Wilson|       null|  Pete Carroll|      Denver Broncos|         8|Peyton Manning|        null|     John Fox|          51|            35|\n",
      "|1993-01-31|        27|          Rose Bowl|       Pasadena|California|     98374|     Dallas Cowboys|         52|   Troy Aikman|       null| Jimmy Johnson|       Buffalo Bills|        17|     Jim Kelly| Frank Reich|    Marv Levy|          69|            35|\n",
      "|1990-01-28|        24|Louisiana Superdome|    New Orleans| Louisiana|     72919|San Francisco 49ers|         55|   Joe Montana|       null|George Seifert|      Denver Broncos|        10|    John Elway|        null|   Dan Reeves|          65|            45|\n",
      "|1986-01-26|        20|Louisiana Superdome|    New Orleans| Louisiana|     73818|      Chicago Bears|         46|   Jim McMahon|       null|    Mike Ditka|New England Patriots|        10|    Tony Eason|Steve Grogan|Raymond Berry|          56|            36|\n",
      "+----------+----------+-------------------+---------------+----------+----------+-------------------+-----------+--------------+-----------+--------------+--------------------+----------+--------------+------------+-------------+------------+--------------+\n",
      "\n"
     ]
    }
   ],
   "source": [
    "plt.hist(super_bowls_pandas['difference_pts'])\n",
    "plt.xlabel('Difference_points')\n",
    "plt.ylabel('Number of Super Bowls')\n",
    "plt.show()\n",
    "\n",
    "super_bowls.filter(super_bowls.difference_pts == 1).show()\n",
    "super_bowls.filter(super_bowls.difference_pts >= 35).show()"
   ]
  },
  {
   "cell_type": "markdown",
   "metadata": {
    "dc": {
     "key": "31"
    },
    "deletable": false,
    "editable": false,
    "run_control": {
     "frozen": true
    },
    "tags": [
     "context"
    ]
   },
   "source": [
    "## 5. Do blowouts translate to lost viewers?\n",
    "<p>The vast majority of Super Bowls are close games. Makes sense. Both teams are likely to be deserving if they've made it this far. The closest game ever was when the Buffalo Bills lost to the New York Giants by 1 point in 1991, which was  best remembered for Scott Norwood's last-second missed field goal attempt that went <em><a href=\"https://www.youtube.com/watch?v=RPFZCGgjDSg\">wide right</a></em>, kicking off four Bills Super Bowl losses in a row. Poor Scott. The biggest point discrepancy ever was 45 points (!) where Hall of Famer Joe Montana's led the San Francisco 49ers to victory in 1990, one year before the closest game ever.</p>\n",
    "<p>I remember watching the Seahawks crush the Broncos by 35 points (43-8) in 2014, which was a boring experience in my opinion. The game was never really close. I'm pretty sure we changed the channel at the end of the third quarter. Let's combine our game data and TV to see if this is a universal phenomenon. Do large point differences translate to lost viewers? We can plot <a href=\"https://en.wikipedia.org/wiki/Nielsen_ratings\">household share</a> <em>(average percentage of U.S. households with a TV in use that were watching for the entire broadcast)</em> vs. point difference to find out.</p>"
   ]
  },
  {
   "cell_type": "code",
   "execution_count": 9,
   "metadata": {},
   "outputs": [],
   "source": [
    "import seaborn as sns"
   ]
  },
  {
   "cell_type": "code",
   "execution_count": 10,
   "metadata": {
    "dc": {
     "key": "31"
    },
    "tags": [
     "sample_code"
    ]
   },
   "outputs": [],
   "source": [
    "games_tv = super_bowls.join(tv.filter(tv.super_bowl > 1), 'super_bowl', 'inner')\n",
    "\n",
    "games_tv_pd = games_tv.toPandas()\n",
    "\n",
    "games_tv_pd.share_household = games_tv_pd.share_household.astype(float)\n",
    "games_tv_pd.difference_pts = games_tv_pd.difference_pts.astype(int)"
   ]
  },
  {
   "cell_type": "code",
   "execution_count": 11,
   "metadata": {},
   "outputs": [
    {
     "data": {
      "text/plain": [
       "<matplotlib.axes._subplots.AxesSubplot at 0x7f7adac14cc0>"
      ]
     },
     "execution_count": 11,
     "metadata": {},
     "output_type": "execute_result"
    },
    {
     "data": {
      "image/png": "[encoded data removed]",
      "text/plain": [
       "<Figure size 576x396 with 1 Axes>"
      ]
     },
     "metadata": {},
     "output_type": "display_data"
    }
   ],
   "source": [
    "sns.regplot(x= games_tv_pd.difference_pts, y=games_tv_pd.share_household, data=games_tv_pd)"
   ]
  },
  {
   "cell_type": "markdown",
   "metadata": {
    "dc": {
     "key": "38"
    },
    "deletable": false,
    "editable": false,
    "run_control": {
     "frozen": true
    },
    "tags": [
     "context"
    ]
   },
   "source": [
    "## 6. Viewership and the ad industry over time\n",
    "<p>The downward sloping regression line and the 95% confidence interval for that regression <em>suggest</em> that bailing on the game if it is a blowout is common. Though it matches our intuition, we must take it with a grain of salt because the linear relationship in the data is weak due to our small sample size of 52 games.</p>\n",
    "<p>Regardless of the score though, I bet most people stick it out for the halftime show, which is good news for the TV networks and advertisers. A 30-second spot costs a pretty <a href=\"https://www.businessinsider.com/super-bowl-commercials-cost-more-than-eagles-quarterback-earns-2018-1\">\\$5 million</a> now, but has it always been that way? And how have number of viewers and household ratings trended alongside ad cost? We can find out using line plots that share a \"Super Bowl\" x-axis.</p>"
   ]
  },
  {
   "cell_type": "code",
   "execution_count": 12,
   "metadata": {
    "dc": {
     "key": "38"
    },
    "tags": [
     "sample_code"
    ]
   },
   "outputs": [],
   "source": [
    "tv_pd = tv.toPandas()\n",
    "\n",
    "tv_pd.super_bowl = tv_pd.super_bowl.astype(int)\n",
    "tv_pd.avg_us_viewers = tv_pd.avg_us_viewers.astype(float)\n",
    "tv_pd.rating_household = tv_pd.rating_household.astype(float)\n",
    "tv_pd.ad_cost = tv_pd.ad_cost.astype(float)"
   ]
  },
  {
   "cell_type": "code",
   "execution_count": 13,
   "metadata": {},
   "outputs": [
    {
     "data": {
      "image/png": "[encoded data removed]",
      "text/plain": [
       "<Figure size 576x396 with 3 Axes>"
      ]
     },
     "metadata": {},
     "output_type": "display_data"
    }
   ],
   "source": [
    "# Create a figure with 3x1 subplot and activate the top subplot\n",
    "plt.subplot(3, 1, 1)\n",
    "plt.plot(tv_pd.super_bowl, tv_pd.avg_us_viewers, color='#648FFF')\n",
    "plt.title('Average Number of US Viewers')\n",
    "\n",
    "# Activate the middle subplot\n",
    "plt.subplot(3, 1, 2)\n",
    "plt.plot(tv_pd.super_bowl, tv_pd.rating_household, color='#DC267F')\n",
    "plt.title('Household Rating')\n",
    "\n",
    "# Activate the bottom subplot\n",
    "plt.subplot(3, 1, 3)\n",
    "plt.plot(tv_pd.super_bowl, tv_pd.ad_cost, color='#FFB000')\n",
    "plt.title('Ad Cost')\n",
    "plt.xlabel('SUPER BOWL')\n",
    "\n",
    "# Improve the spacing between subplots\n",
    "plt.tight_layout()"
   ]
  },
  {
   "cell_type": "markdown",
   "metadata": {
    "dc": {
     "key": "45"
    },
    "deletable": false,
    "editable": false,
    "run_control": {
     "frozen": true
    },
    "tags": [
     "context"
    ]
   },
   "source": [
    "## 7. Halftime shows weren't always this great\n",
    "<p>We can see viewers increased before ad costs did. Maybe the networks weren't very data savvy and were slow to react? Makes sense since DataCamp didn't exist back then.</p>\n",
    "<p>Another hypothesis: maybe halftime shows weren't that good in the earlier years? The modern spectacle of the Super Bowl has a lot to do with the cultural prestige of big halftime acts. I went down a YouTube rabbit hole and it turns out the old ones weren't up to today's standards. Some offenders:</p>\n",
    "<ul>\n",
    "<li><a href=\"https://youtu.be/6wMXHxWO4ns?t=263\">Super Bowl XXVI</a> in 1992: A Frosty The Snowman rap performed by children.</li>\n",
    "<li><a href=\"https://www.youtube.com/watch?v=PKQTL1PYSag\">Super Bowl XXIII</a> in 1989: An Elvis impersonator that did magic tricks and didn't even sing one Elvis song.</li>\n",
    "<li><a href=\"https://youtu.be/oSXMNbK2e98?t=436\">Super Bowl XXI</a> in 1987: Tap dancing ponies. (Okay, that's pretty awesome actually.)</li>\n",
    "</ul>\n",
    "<p>It turns out Michael Jackson's Super Bowl XXVII performance, one of the most watched events in American TV history, was when the NFL realized the value of Super Bowl airtime and decided they needed to sign big name acts from then on out. The halftime shows before MJ indeed weren't that impressive, which we can see by filtering our <code>halftime_musician</code> data.</p>"
   ]
  },
  {
   "cell_type": "code",
   "execution_count": 14,
   "metadata": {
    "dc": {
     "key": "45"
    },
    "tags": [
     "sample_code"
    ]
   },
   "outputs": [
    {
     "name": "stdout",
     "output_type": "stream",
     "text": [
      "+----------+--------------------+---------+\n",
      "|super_bowl|            musician|num_songs|\n",
      "+----------+--------------------+---------+\n",
      "|        27|     Michael Jackson|        5|\n",
      "|        26|      Gloria Estefan|        2|\n",
      "|        26|University of Min...|     null|\n",
      "|        25|New Kids on the B...|        2|\n",
      "|        24|       Pete Fountain|        1|\n",
      "|        24|        Doug Kershaw|        1|\n",
      "|        24|         Irma Thomas|        1|\n",
      "|        24|Pride of Nicholls...|     null|\n",
      "|        24|   The Human Jukebox|     null|\n",
      "|        24|   Pride of Acadiana|     null|\n",
      "|        23|        Elvis Presto|        7|\n",
      "|        22|      Chubby Checker|        2|\n",
      "|        22|San Diego State U...|     null|\n",
      "|        22|      Spirit of Troy|     null|\n",
      "|        21|Grambling State U...|        8|\n",
      "|        21|      Spirit of Troy|        8|\n",
      "|        20|      Up with People|     null|\n",
      "|        19|        Tops In Blue|     null|\n",
      "|        18|The University of...|        7|\n",
      "|        18|The Florida State...|        7|\n",
      "+----------+--------------------+---------+\n",
      "only showing top 20 rows\n",
      "\n"
     ]
    }
   ],
   "source": [
    "halftime_musicians.filter(halftime_musicians.super_bowl <= 27).show()"
   ]
  },
  {
   "cell_type": "markdown",
   "metadata": {
    "dc": {
     "key": "52"
    },
    "deletable": false,
    "editable": false,
    "run_control": {
     "frozen": true
    },
    "tags": [
     "context"
    ]
   },
   "source": [
    "## 8. Who has the most halftime show appearances?\n",
    "<p>Lots of marching bands. American jazz clarinetist Pete Fountain. Miss Texas 1973 playing a violin. Nothing against those performers, they're just simply not <a href=\"https://www.youtube.com/watch?v=suIg9kTGBVI\">Beyoncé</a>. To be fair, no one is.</p>\n",
    "<p>Let's see all of the musicians that have done more than one halftime show, including their performance counts.</p>"
   ]
  },
  {
   "cell_type": "code",
   "execution_count": 15,
   "metadata": {
    "dc": {
     "key": "52"
    },
    "tags": [
     "sample_code"
    ]
   },
   "outputs": [
    {
     "name": "stdout",
     "output_type": "stream",
     "text": [
      "+--------------------+-----+\n",
      "|            musician|count|\n",
      "+--------------------+-----+\n",
      "|Grambling State U...|    6|\n",
      "|      Up with People|    4|\n",
      "|             Al Hirt|    4|\n",
      "|   The Human Jukebox|    3|\n",
      "|      Gloria Estefan|    2|\n",
      "|               Nelly|    2|\n",
      "|Los Angeles Unifi...|    2|\n",
      "|Florida A&M Unive...|    2|\n",
      "|       Pete Fountain|    2|\n",
      "|      Spirit of Troy|    2|\n",
      "|   Justin Timberlake|    2|\n",
      "|          Bruno Mars|    2|\n",
      "|University of Min...|    2|\n",
      "|             Beyoncé|    2|\n",
      "+--------------------+-----+\n",
      "\n",
      "2.5627377033233643\n"
     ]
    }
   ],
   "source": [
    "halftime_appearances = halftime_musicians.groupby('musician').count()\n",
    "\n",
    "start_time_1 = time.time()\n",
    "\n",
    "halftime_appearances.filter(halftime_appearances['count'] > 1).orderBy(halftime_appearances['count'].desc()).show()\n",
    "time_1 = time.time() - start_time_1\n",
    "\n",
    "print(time_1)"
   ]
  },
  {
   "cell_type": "code",
   "execution_count": 16,
   "metadata": {},
   "outputs": [
    {
     "name": "stdout",
     "output_type": "stream",
     "text": [
      "+--------------------+-----+\n",
      "|            musician|count|\n",
      "+--------------------+-----+\n",
      "|Grambling State U...|    6|\n",
      "|      Up with People|    4|\n",
      "|             Al Hirt|    4|\n",
      "|   The Human Jukebox|    3|\n",
      "|      Gloria Estefan|    2|\n",
      "|               Nelly|    2|\n",
      "|Los Angeles Unifi...|    2|\n",
      "|Florida A&M Unive...|    2|\n",
      "|       Pete Fountain|    2|\n",
      "|      Spirit of Troy|    2|\n",
      "|   Justin Timberlake|    2|\n",
      "|          Bruno Mars|    2|\n",
      "|University of Min...|    2|\n",
      "|             Beyoncé|    2|\n",
      "+--------------------+-----+\n",
      "\n",
      "1.3662025928497314\n"
     ]
    }
   ],
   "source": [
    "halftime_appearances = halftime_musicians.groupby('musician').count()\n",
    "\n",
    "start_time_1 = time.time()\n",
    "\n",
    "halftime_appearances.orderBy(halftime_appearances['count'].desc()).filter(halftime_appearances['count'] > 1).show()\n",
    "time_1 = time.time() - start_time_1\n",
    "print(time_1)"
   ]
  },
  {
   "cell_type": "markdown",
   "metadata": {
    "dc": {
     "key": "59"
    },
    "deletable": false,
    "editable": false,
    "run_control": {
     "frozen": true
    },
    "tags": [
     "context"
    ]
   },
   "source": [
    "## 9. Who performed the most songs in a halftime show?\n",
    "<p>The world famous <a href=\"https://www.youtube.com/watch?v=RL_3oqpHiDg\">Grambling State University Tiger Marching Band</a> takes the crown with six appearances. Beyoncé, Justin Timberlake, Nelly, and Bruno Mars are the only post-Y2K musicians with multiple appearances (two each).</p>\n",
    "<p>From our previous inspections, the <code>num_songs</code> column has lots of missing values:</p>\n",
    "<ul>\n",
    "<li>A lot of the marching bands don't have <code>num_songs</code> entries.</li>\n",
    "<li>For non-marching bands, missing data starts occurring at Super Bowl XX.</li>\n",
    "</ul>\n",
    "<p>Let's filter out marching bands by filtering out musicians with the word \"Marching\" in them and the word \"Spirit\" (a common naming convention for marching bands is \"Spirit of [something]\"). Then we'll filter for Super Bowls after Super Bowl XX to address the missing data issue, <em>then</em> let's see who has the most number of songs.</p>"
   ]
  },
  {
   "cell_type": "code",
   "execution_count": 17,
   "metadata": {
    "dc": {
     "key": "59"
    },
    "tags": [
     "sample_code"
    ]
   },
   "outputs": [],
   "source": [
    "no_bands = halftime_musicians.filter(~halftime_musicians.musician.contains('Marching'))\n",
    "no_bands = no_bands.filter(~no_bands.musician.contains('Spirit'))\n",
    "no_bands = no_bands.filter(~no_bands.num_songs.isNull())\n",
    "most_songs = no_bands.agg({'num_songs':'max'}).collect()[0][0]\n",
    "no_bands_pd = no_bands.toPandas()\n",
    "no_bands_pd.num_songs = no_bands_pd.num_songs.astype(int)"
   ]
  },
  {
   "cell_type": "code",
   "execution_count": 18,
   "metadata": {},
   "outputs": [
    {
     "data": {
      "image/png": "[encoded data removed]",
      "text/plain": [
       "<Figure size 576x396 with 1 Axes>"
      ]
     },
     "metadata": {},
     "output_type": "display_data"
    },
    {
     "data": {
      "text/plain": [
       "[Row(super_bowl='49', musician='Katy Perry', num_songs='8'),\n",
       " Row(super_bowl='41', musician='Prince', num_songs='7'),\n",
       " Row(super_bowl='23', musician='Elvis Presto', num_songs='7'),\n",
       " Row(super_bowl='47', musician='Beyoncé', num_songs='7'),\n",
       " Row(super_bowl='51', musician='Lady Gaga', num_songs='7'),\n",
       " Row(super_bowl='45', musician='The Black Eyed Peas', num_songs='6'),\n",
       " Row(super_bowl='50', musician='Coldplay', num_songs='6'),\n",
       " Row(super_bowl='48', musician='Bruno Mars', num_songs='6'),\n",
       " Row(super_bowl='46', musician='Madonna', num_songs='5'),\n",
       " Row(super_bowl='27', musician='Michael Jackson', num_songs='5'),\n",
       " Row(super_bowl='44', musician='The Who', num_songs='5'),\n",
       " Row(super_bowl='42', musician='Tom Petty & the Heartbreakers', num_songs='4'),\n",
       " Row(super_bowl='43', musician='Bruce Springsteen and the E Street Band', num_songs='4'),\n",
       " Row(super_bowl='39', musician='Paul McCartney', num_songs='4'),\n",
       " Row(super_bowl='33', musician='Stevie Wonder', num_songs='4')]"
      ]
     },
     "execution_count": 18,
     "metadata": {},
     "output_type": "execute_result"
    }
   ],
   "source": [
    "plt.hist(no_bands_pd.num_songs, bins=int(most_songs))\n",
    "plt.xlabel('Number of Songs Per Halftime Show Performance')\n",
    "plt.ylabel('Number of Musicians')\n",
    "plt.show()\n",
    "\n",
    "no_bands.orderBy(no_bands['num_songs'].desc()).take(15)"
   ]
  },
  {
   "cell_type": "markdown",
   "metadata": {
    "dc": {
     "key": "66"
    },
    "deletable": false,
    "editable": false,
    "run_control": {
     "frozen": true
    },
    "tags": [
     "context"
    ]
   },
   "source": [
    "## 10. Conclusion\n",
    "<p>So most non-band musicians do 1-3 songs per halftime show. It's important to note that the duration of the halftime show is fixed (roughly 12 minutes) so songs per performance is more a measure of how many hit songs you have. JT went off in 2018, wow. 11 songs! Diana Ross comes in second with 10 in her medley in 1996.</p>\n",
    "<p>In this notebook, we loaded, cleaned, then explored Super Bowl game, television, and halftime show data. We visualized the distributions of combined points, point differences, and halftime show performances using histograms. We used line plots to see how ad cost increases lagged behind viewership increases. And we discovered that blowouts do appear to lead to a drop in viewers.</p>\n",
    "<p>This year's Big Game will be here before you know it. Who do you think will win Super Bowl LIII?</p>\n",
    "<p><em>UPDATE: <a href=\"https://en.wikipedia.org/wiki/Super_Bowl_LIII\">Spoiler alert</a>.</em></p>"
   ]
  },
  {
   "cell_type": "code",
   "execution_count": 19,
   "metadata": {
    "dc": {
     "key": "66"
    },
    "tags": [
     "sample_code"
    ]
   },
   "outputs": [
    {
     "name": "stdout",
     "output_type": "stream",
     "text": [
      "The winner of Super Bowl LIII will be the New England Patriots\n"
     ]
    }
   ],
   "source": [
    "# 2018-2019 conference champions\n",
    "patriots = 'New England Patriots'\n",
    "rams = 'Los Angeles Rams'\n",
    "\n",
    "# Who will win Super Bowl LIII?\n",
    "super_bowl_LIII_winner = patriots\n",
    "print('The winner of Super Bowl LIII will be the', super_bowl_LIII_winner)"
   ]
  }
 ],
 "metadata": {
  "kernelspec": {
   "display_name": "Python 3",
   "language": "python",
   "name": "python3"
  },
  "language_info": {
   "codemirror_mode": {
    "name": "ipython",
    "version": 3
   },
   "file_extension": ".py",
   "mimetype": "text/x-python",
   "name": "python",
   "nbconvert_exporter": "python",
   "pygments_lexer": "ipython3",
   "version": "3.7.3"
  }
 },
 "nbformat": 4,
 "nbformat_minor": 4
}
