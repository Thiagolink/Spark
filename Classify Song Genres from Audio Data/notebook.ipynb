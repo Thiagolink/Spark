{
 "cells": [
  {
   "cell_type": "markdown",
   "metadata": {
    "dc": {
     "key": "3"
    },
    "deletable": false,
    "editable": false,
    "run_control": {
     "frozen": true
    },
    "tags": [
     "context"
    ]
   },
   "source": [
    "## 1. Preparing our dataset\n",
    "<p><em>These recommendations are so on point! How does this playlist know me so well?</em></p>\n",
    "<p><img src=\"https://s3.amazonaws.com/assets.datacamp.com/production/project_449/img/iphone_music.jpg\" alt=\"Project Image Record\" width=\"600px\"></p>\n",
    "<p>Over the past few years, streaming services with huge catalogs have become the primary means through which most people listen to their favorite music. But at the same time, the sheer amount of music on offer can mean users might be a bit overwhelmed when trying to look for newer music that suits their tastes.</p>\n",
    "<p>For this reason, streaming services have looked into means of categorizing music to allow for personalized recommendations. One method involves direct analysis of the raw audio information in a given song, scoring the raw data on a variety of metrics. Today, we'll be examining data compiled by a research group known as The Echo Nest. Our goal is to look through this dataset and classify songs as being either 'Hip-Hop' or 'Rock' - all without listening to a single one ourselves. In doing so, we will learn how to clean our data, do some exploratory data visualization, and use feature reduction towards the goal of feeding our data through some simple machine learning algorithms, such as decision trees and logistic regression.</p>\n",
    "<p>To begin with, let's load the metadata about our tracks alongside the track metrics compiled by The Echo Nest. A song is about more than its title, artist, and number of listens. We have another dataset that has musical features of each track such as <code>danceability</code> and <code>acousticness</code> on a scale from -1 to 1. These exist in two different files, which are in different formats - CSV and JSON. While CSV is a popular file format for denoting tabular data, JSON is another common file format in which databases often return the results of a given query.</p>\n",
    "<p>Let's start by creating two pandas <code>DataFrames</code> out of these files that we can merge so we have features and labels (often also referred to as <code>X</code> and <code>y</code>) for the classification later on.</p>"
   ]
  },
  {
   "cell_type": "code",
   "execution_count": 1,
   "metadata": {},
   "outputs": [],
   "source": [
    "from pyspark.sql import SparkSession\n",
    "import pandas as pd\n",
    "import numpy as np\n",
    "import time\n",
    "\n",
    "spark = SparkSession.builder.master('local').appName('spark-cluster').getOrCreate()"
   ]
  },
  {
   "cell_type": "code",
   "execution_count": 2,
   "metadata": {},
   "outputs": [],
   "source": [
    "# Read in track metadata with genre labels\n",
    "tracks = spark.read.csv('datasets/fma-rock-vs-hiphop.csv', header=True)\n",
    "\n",
    "# Read in track metrics with the features\n",
    "echonest_metrics_pd = pd.read_json('datasets/echonest-metrics.json', precise_float=True)\n",
    "\n",
    "echonest_metrics = spark.createDataFrame(echonest_metrics_pd)"
   ]
  },
  {
   "cell_type": "code",
   "execution_count": 3,
   "metadata": {},
   "outputs": [],
   "source": [
    "echo_tracks = echonest_metrics.join(tracks.select('track_id', 'genre_top'), 'track_id', 'inner')"
   ]
  },
  {
   "cell_type": "code",
   "execution_count": 4,
   "metadata": {},
   "outputs": [
    {
     "name": "stdout",
     "output_type": "stream",
     "text": [
      "root\n",
      " |-- track_id: long (nullable = true)\n",
      " |-- acousticness: double (nullable = true)\n",
      " |-- danceability: double (nullable = true)\n",
      " |-- energy: double (nullable = true)\n",
      " |-- instrumentalness: double (nullable = true)\n",
      " |-- liveness: double (nullable = true)\n",
      " |-- speechiness: double (nullable = true)\n",
      " |-- tempo: double (nullable = true)\n",
      " |-- valence: double (nullable = true)\n",
      " |-- genre_top: string (nullable = true)\n",
      "\n"
     ]
    }
   ],
   "source": [
    "echo_tracks.printSchema()"
   ]
  },
  {
   "cell_type": "markdown",
   "metadata": {
    "dc": {
     "key": "10"
    },
    "deletable": false,
    "editable": false,
    "run_control": {
     "frozen": true
    },
    "tags": [
     "context"
    ]
   },
   "source": [
    "## 2. Pairwise relationships between continuous variables\n",
    "<p>We typically want to avoid using variables that have strong correlations with each other -- hence avoiding feature redundancy -- for a few reasons:</p>\n",
    "<ul>\n",
    "<li>To keep the model simple and improve interpretability (with many features, we run the risk of overfitting).</li>\n",
    "<li>When our datasets are very large, using fewer features can drastically speed up our computation time.</li>\n",
    "</ul>\n",
    "<p>To get a sense of whether there are any strongly correlated features in our data, we will use built-in functions in the <code>pandas</code> package.</p>"
   ]
  },
  {
   "cell_type": "code",
   "execution_count": 5,
   "metadata": {},
   "outputs": [],
   "source": [
    "# Create a correlation matrix\n",
    "from pyspark.mllib.stat import Statistics\n",
    "\n",
    "#Creating the correlation droping the label column\n",
    "col_names = echo_tracks.drop('genre_top', 'track_id').columns\n",
    "features = echo_tracks.drop('genre_top', 'track_id').rdd.map(lambda row: row[0:])\n",
    "\n",
    "correlation = Statistics.corr(features, method='pearson')\n",
    "\n",
    "corr_df = pd.DataFrame(correlation)\n",
    "corr_df.index, corr_df.columns = col_names, col_names"
   ]
  },
  {
   "cell_type": "code",
   "execution_count": 6,
   "metadata": {},
   "outputs": [
    {
     "data": {
      "image/png": "[encoded data removed]",
      "text/plain": [
       "<Figure size 720x360 with 2 Axes>"
      ]
     },
     "metadata": {
      "needs_background": "light"
     },
     "output_type": "display_data"
    }
   ],
   "source": [
    "import seaborn as sns\n",
    "import matplotlib.pyplot as plt\n",
    "\n",
    "plt.rcParams[\"figure.figsize\"] = (10,5)\n",
    "\n",
    "ax = sns.heatmap(\n",
    "    corr_df, \n",
    "    vmin=-1, vmax=1, center=0,\n",
    "    cmap=sns.diverging_palette(20, 220, n=200),\n",
    "    square=True\n",
    ")\n",
    "ax.set_xticklabels(\n",
    "    ax.get_xticklabels(),\n",
    "    rotation=45,\n",
    "    horizontalalignment='right'\n",
    ");"
   ]
  },
  {
   "cell_type": "markdown",
   "metadata": {
    "dc": {
     "key": "17"
    },
    "deletable": false,
    "editable": false,
    "run_control": {
     "frozen": true
    },
    "tags": [
     "context"
    ]
   },
   "source": [
    "## 3. Normalizing the feature data\n",
    "<p>As mentioned earlier, it can be particularly useful to simplify our models and use as few features as necessary to achieve the best result. Since we didn't find any particular strong correlations between our features, we can instead use a common approach to reduce the number of features called <strong>principal component analysis (PCA)</strong>. </p>\n",
    "<p>It is possible that the variance between genres can be explained by just a few features in the dataset. PCA rotates the data along the axis of highest variance, thus allowing us to determine the relative contribution of each feature of our data towards the variance between classes. </p>\n",
    "<p>However, since PCA uses the absolute variance of a feature to rotate the data, a feature with a broader range of values will overpower and bias the algorithm relative to the other features. To avoid this, we must first normalize our data. There are a few methods to do this, but a common way is through <em>standardization</em>, such that all features have a mean = 0 and standard deviation = 1 (the resultant is a z-score).</p>"
   ]
  },
  {
   "cell_type": "code",
   "execution_count": 8,
   "metadata": {},
   "outputs": [],
   "source": [
    "#Import Vector Assembler to create a Vector Column from the DataFrame\n",
    "from pyspark.ml.feature import VectorAssembler\n",
    "\n",
    "#Defining the features that are going to be used in the future model\n",
    "features = echo_tracks.drop('track_id')\n",
    "\n",
    "#Defining which values of the DataFrame are going to be used for the Vector\n",
    "assembler = VectorAssembler(inputCols=['acousticness', 'danceability', 'energy', 'instrumentalness', 'liveness', 'speechiness', 'tempo', 'valence'], outputCol='features')\n",
    "\n",
    "#Creating the Vector Column\n",
    "output = assembler.transform(features)"
   ]
  },
  {
   "cell_type": "code",
   "execution_count": 9,
   "metadata": {},
   "outputs": [],
   "source": [
    "#Importing the StandarScaler\n",
    "from pyspark.ml.feature import StandardScaler\n",
    "\n",
    "#Creating the object to get only the Vector Column from the DataFrame\n",
    "scaler = StandardScaler(inputCol='features', outputCol='scaledFeatures')\n",
    "\n",
    "# Compute summary statistics by fitting the StandardScaler\n",
    "scalarModel = scaler.fit(output)\n",
    "\n",
    "#Transforming to a Vector \n",
    "scaled_train_features = scalarModel.transform(output).select('scaledFeatures','genre_top')"
   ]
  },
  {
   "cell_type": "markdown",
   "metadata": {
    "dc": {
     "key": "24"
    },
    "deletable": false,
    "editable": false,
    "run_control": {
     "frozen": true
    },
    "tags": [
     "context"
    ]
   },
   "source": [
    "## 4. Principal Component Analysis on our scaled data\n",
    "<p>Now that we have preprocessed our data, we are ready to use PCA to determine by how much we can reduce the dimensionality of our data. We can use <strong>scree-plots</strong> and <strong>cumulative explained ratio plots</strong> to find the number of components to use in further analyses.</p>\n",
    "<p>Scree-plots display the number of components against the variance explained by each component, sorted in descending order of variance. Scree-plots help us get a better sense of which components explain a sufficient amount of variance in our data. When using scree plots, an 'elbow' (a steep drop from one data point to the next) in the plot is typically used to decide on an appropriate cutoff.</p>"
   ]
  },
  {
   "cell_type": "code",
   "execution_count": 10,
   "metadata": {},
   "outputs": [
    {
     "data": {
      "text/plain": [
       "DataFrame[pca_features: vector, genre_top: string]"
      ]
     },
     "execution_count": 10,
     "metadata": {},
     "output_type": "execute_result"
    }
   ],
   "source": [
    "from pyspark.ml.feature import PCA\n",
    "\n",
    "#Calculating the PCA and creating a new DataFrame with the PCA features\n",
    "pca = PCA(k=8, inputCol='scaledFeatures', outputCol='pca_features')\n",
    "pca_model = pca.fit(scaled_train_features)\n",
    "pca_features = pca_model.transform(scaled_train_features).select('pca_features', 'genre_top')\n",
    "\n",
    "pca_features"
   ]
  },
  {
   "cell_type": "code",
   "execution_count": 11,
   "metadata": {},
   "outputs": [],
   "source": [
    "#Creating a DataFrame to see the variance by each component\n",
    "\n",
    "dict_pca = {}\n",
    "\n",
    "for i in range(len(pca_model.explainedVariance)):\n",
    "    dict_pca[i+1] = pca_model.explainedVariance[i]\n",
    "\n",
    "df_pca = pd.DataFrame.from_dict(dict_pca, orient='index',columns=['Variance'])"
   ]
  },
  {
   "cell_type": "code",
   "execution_count": 12,
   "metadata": {
    "dc": {
     "key": "24"
    },
    "tags": [
     "sample_code"
    ]
   },
   "outputs": [
    {
     "data": {
      "text/plain": [
       "Text(0.5, 0, 'Principal Component #')"
      ]
     },
     "execution_count": 12,
     "metadata": {},
     "output_type": "execute_result"
    },
    {
     "data": {
      "image/png": "[encoded data removed]",
      "text/plain": [
       "<Figure size 432x288 with 1 Axes>"
      ]
     },
     "metadata": {
      "needs_background": "light"
     },
     "output_type": "display_data"
    }
   ],
   "source": [
    "# This is just to make plots appear in the notebook\n",
    "%matplotlib inline\n",
    "\n",
    "# Import our plotting module\n",
    "import matplotlib.pyplot as plt\n",
    "\n",
    "# plot the explained variance using a barplot\n",
    "fig, ax = plt.subplots()\n",
    "ax.bar(df_pca.index.values, df_pca['Variance'])\n",
    "ax.set_xlabel('Principal Component #')"
   ]
  },
  {
   "cell_type": "markdown",
   "metadata": {
    "dc": {
     "key": "31"
    },
    "deletable": false,
    "editable": false,
    "run_control": {
     "frozen": true
    },
    "tags": [
     "context"
    ]
   },
   "source": [
    "## 5. Further visualization of PCA\n",
    "<p>Unfortunately, there does not appear to be a clear elbow in this scree plot, which means it is not straightforward to find the number of intrinsic dimensions using this method. </p>\n",
    "<p>But all is not lost! Instead, we can also look at the <strong>cumulative explained variance plot</strong> to determine how many features are required to explain, say, about 90% of the variance (cutoffs are somewhat arbitrary here, and usually decided upon by 'rules of thumb'). Once we determine the appropriate number of components, we can perform PCA with that many components, ideally reducing the dimensionality of our data.</p>"
   ]
  },
  {
   "cell_type": "code",
   "execution_count": 13,
   "metadata": {
    "dc": {
     "key": "31"
    },
    "tags": [
     "sample_code"
    ]
   },
   "outputs": [
    {
     "data": {
      "image/png": "[encoded data removed]",
      "text/plain": [
       "<Figure size 432x288 with 1 Axes>"
      ]
     },
     "metadata": {
      "needs_background": "light"
     },
     "output_type": "display_data"
    }
   ],
   "source": [
    "# Import numpy\n",
    "import numpy as np\n",
    "\n",
    "# Calculate the cumulative explained variance\n",
    "cum_exp_variance = np.cumsum( df_pca['Variance'])\n",
    "\n",
    "# Plot the cumulative explained variance and draw a dashed line at 0.90.\n",
    "fig, ax = plt.subplots()\n",
    "ax.plot(df_pca.index.values, cum_exp_variance)\n",
    "ax.axhline(y=0.9, linestyle='--')\n",
    "n_components = 6\n",
    "\n",
    "# Perform PCA with the chosen number of components and project data onto components\n",
    "pca = PCA(k=n_components, inputCol='scaledFeatures', outputCol='pca_features')\n",
    "pca_model = pca.fit(scaled_train_features)\n",
    "pca_features = pca_model.transform(scaled_train_features).select('pca_features','genre_top')"
   ]
  },
  {
   "cell_type": "markdown",
   "metadata": {
    "dc": {
     "key": "38"
    },
    "deletable": false,
    "editable": false,
    "run_control": {
     "frozen": true
    },
    "tags": [
     "context"
    ]
   },
   "source": [
    "## 6. Train a decision tree to classify genre\n",
    "<p>Now we can use the lower dimensional PCA projection of the data to classify songs into genres. To do that, we first need to split our dataset into 'train' and 'test' subsets, where the 'train' subset will be used to train our model while the 'test' dataset allows for model performance validation.</p>\n",
    "<p>Here, we will be using a simple algorithm known as a decision tree. Decision trees are rule-based classifiers that take in features and follow a 'tree structure' of binary decisions to ultimately classify a data point into one of two or more categories. In addition to being easy to both use and interpret, decision trees allow us to visualize the 'logic flowchart' that the model generates from the training data.</p>\n",
    "<p>Here is an example of a decision tree that demonstrates the process by which an input image (in this case, of a shape) might be classified based on the number of sides it has and whether it is rotated.</p>\n",
    "<p><img src=\"https://s3.amazonaws.com/assets.datacamp.com/production/project_449/img/simple_decision_tree.png\" alt=\"Decision Tree Flow Chart Example\" width=\"350px\"></p>"
   ]
  },
  {
   "cell_type": "markdown",
   "metadata": {},
   "source": [
    "https://databricks-prod-cloudfront.cloud.databricks.com/public/4027ec902e239c93eaaa8714f173bcfc/1006614309859076/2838267243305165/6848090571598542/latest.html"
   ]
  },
  {
   "cell_type": "code",
   "execution_count": 14,
   "metadata": {},
   "outputs": [],
   "source": [
    "from pyspark.ml.feature import StringIndexer, VectorIndexer\n",
    "\n",
    "# Index labels, adding metadata to the label column.\n",
    "# Fit on whole dataset to include all labels in index.\n",
    "labelIndexer = StringIndexer(inputCol=\"genre_top\", outputCol=\"label\").fit(pca_features)\n",
    "\n",
    "\n",
    "# Automatically identify categorical features, and index them.\n",
    "# We specify maxCategories so features with > 4 distinct values are treated as continuous.\n",
    "featureIndexer = VectorIndexer(inputCol=\"pca_features\", outputCol=\"indexedFeatures\", maxCategories=4).fit(pca_features)\n",
    "\n",
    "\n",
    "#Transform the data with String and Vector Index\n",
    "map_class_pd = featureIndexer.transform(labelIndexer.transform(pca_features)).select('genre_top', 'label').distinct().toPandas()\n",
    "\n",
    "# Split the data into training and test sets (30% held out for testing)\n",
    "(trainingData, testData) = pca_features.randomSplit([0.7, 0.3])"
   ]
  },
  {
   "cell_type": "code",
   "execution_count": 16,
   "metadata": {},
   "outputs": [
    {
     "name": "stdout",
     "output_type": "stream",
     "text": [
      "Total Accuracy = 0.89259 \n",
      "DecisionTreeClassificationModel (uid=DecisionTreeClassifier_7af346c5606c) of depth 5 with 47 nodes\n"
     ]
    }
   ],
   "source": [
    "from pyspark.ml import Pipeline\n",
    "from pyspark.ml.classification import DecisionTreeClassifier\n",
    "from pyspark.ml.evaluation import MulticlassClassificationEvaluator\n",
    "\n",
    "# Train a DecisionTree model.\n",
    "dt = DecisionTreeClassifier(labelCol=\"label\", featuresCol=\"indexedFeatures\", seed=42)\n",
    "\n",
    "# Chain indexers and tree in a Pipeline\n",
    "pipeline_dt = Pipeline(stages=[labelIndexer, featureIndexer, dt])\n",
    "\n",
    "# Train model.  This also runs the indexers.\n",
    "model_dt = pipeline_dt.fit(trainingData)\n",
    "\n",
    "# Make predictions.\n",
    "predictions_dt = model_dt.transform(testData)\n",
    "\n",
    "# Select (prediction, true label) and compute test error\n",
    "evaluator_dt = MulticlassClassificationEvaluator(\n",
    "    labelCol=\"label\", predictionCol=\"prediction\", metricName=\"accuracy\")\n",
    "accuracy_dt = evaluator_dt.evaluate(predictions_dt)\n",
    "print(\"Total Accuracy = %g \" % (accuracy_dt))\n",
    "\n",
    "treeModel = model_dt.stages[2]\n",
    "# summary only\n",
    "print(treeModel)"
   ]
  },
  {
   "cell_type": "code",
   "execution_count": 17,
   "metadata": {},
   "outputs": [
    {
     "name": "stdout",
     "output_type": "stream",
     "text": [
      "Class Hip-Hop precision = 0.720\n",
      "Class Hip-Hop recall = 0.678\n",
      "Class Hip-Hop F1 Measure = 0.891\n",
      "Class Rock precision = 0.929\n",
      "Class Rock recall = 0.941\n",
      "Class Rock F1 Measure = 0.890\n"
     ]
    }
   ],
   "source": [
    "from pyspark.mllib.evaluation import MulticlassMetrics\n",
    "\n",
    "#Creating a RDD with the predction and Label to be used in the Evaluator\n",
    "predictions_dt_rdd = predictions_dt.select(\"prediction\", \"label\")\n",
    "predictions_dt_rdd = predictions_dt_rdd.rdd\n",
    "\n",
    "#Creating an evaluator to classify every label\n",
    "metrics_dt = MulticlassMetrics(predictions_dt_rdd)\n",
    "\n",
    "#Printing all the metrics for every label\n",
    "for index, row in map_class_pd.iterrows():\n",
    "    print(\"Class %s precision = %0.3f\" % (row['genre_top'], metrics_dt.precision(row['label'])))\n",
    "    print(\"Class %s recall = %0.3f\" % (row['genre_top'], metrics_dt.recall(row['label'])))\n",
    "    print(\"Class %s F1 Measure = %0.3f\" % (row['genre_top'], metrics_dt.weightedFMeasure(row['label'])))"
   ]
  },
  {
   "cell_type": "markdown",
   "metadata": {
    "dc": {
     "key": "45"
    },
    "deletable": false,
    "editable": false,
    "run_control": {
     "frozen": true
    },
    "tags": [
     "context"
    ]
   },
   "source": [
    "## 7. Compare our decision tree to a logistic regression\n",
    "<p>Although our tree's performance is decent, it's a bad idea to immediately assume that it's therefore the perfect tool for this job -- there's always the possibility of other models that will perform even better! It's always a worthwhile idea to at least test a few other algorithms and find the one that's best for our data.</p>\n",
    "<p>Sometimes simplest is best, and so we will start by applying <strong>logistic regression</strong>. Logistic regression makes use of what's called the logistic function to calculate the odds that a given data point belongs to a given class. Once we have both models, we can compare them on a few performance metrics, such as false positive and false negative rate (or how many points are inaccurately classified). </p>"
   ]
  },
  {
   "cell_type": "code",
   "execution_count": 18,
   "metadata": {},
   "outputs": [],
   "source": [
    "from pyspark.ml.classification import LogisticRegression\n",
    "\n",
    "#Train a Logistic Regression Model\n",
    "lr = LogisticRegression(labelCol=\"label\", featuresCol=\"indexedFeatures\")\n",
    "\n",
    "# Chain indexers and Logistic in a Pipeline\n",
    "pipeline_lr = Pipeline(stages=[labelIndexer, featureIndexer, lr])\n",
    "\n",
    "# Train model.  This also runs the indexers.\n",
    "model_lr = pipeline_lr.fit(trainingData)\n",
    "\n",
    "# Make predictions.\n",
    "predictions_lr = model_lr.transform(testData)\n",
    "\n",
    "evaluator_lr = MulticlassClassificationEvaluator(\n",
    "    labelCol=\"label\", predictionCol=\"prediction\", metricName=\"accuracy\")\n",
    "accuracy_lr = evaluator_lr.evaluate(predictions_lr)\n",
    "\n"
   ]
  },
  {
   "cell_type": "code",
   "execution_count": 19,
   "metadata": {},
   "outputs": [
    {
     "name": "stdout",
     "output_type": "stream",
     "text": [
      "\t Hip-Hop precision = 0.741 \n",
      "\t Hip-Hop recall = 0.541\n",
      "\t Hip-Hop F1 Measure = 0.873\n",
      "\t Rock precision = 0.903 \n",
      "\t Rock recall = 0.958\n",
      "\t Rock F1 Measure = 0.873\n"
     ]
    }
   ],
   "source": [
    "predictions_lr_rdd = predictions_lr.select(\"prediction\", \"label\")\n",
    "predictions_lr_rdd = predictions_lr_rdd.rdd\n",
    "\n",
    "metrics_lr = MulticlassMetrics(predictions_lr_rdd)\n",
    "\n",
    "for index, row in map_class_pd.iterrows():\n",
    "    print(\"\\t %s precision = %0.3f \" % (row['genre_top'], metrics_lr.precision(row['label'])))\n",
    "    print(\"\\t %s recall = %0.3f\" % (row['genre_top'], metrics_lr.recall(row['label'])))\n",
    "    print(\"\\t %s F1 Measure = %0.3f\" % (row['genre_top'], metrics_lr.weightedFMeasure(row['label'])))"
   ]
  },
  {
   "cell_type": "code",
   "execution_count": 20,
   "metadata": {},
   "outputs": [
    {
     "name": "stdout",
     "output_type": "stream",
     "text": [
      "Decision Tree:\n",
      "\t Hip-Hop precision = 0.720 \n",
      "\t Hip-Hop recall = 0.678\n",
      "\t Hip-Hop F1 Measure = 0.891\n",
      "\t Rock precision = 0.929 \n",
      "\t Rock recall = 0.941\n",
      "\t Rock F1 Measure = 0.890\n",
      "Total Accuracy = 0.89259 \n",
      "Logistic Regression:\n",
      "\t Hip-Hop precision = 0.741 \n",
      "\t Hip-Hop recall = 0.541\n",
      "\t Hip-Hop F1 Measure = 0.873\n",
      "\t Rock precision = 0.903 \n",
      "\t Rock recall = 0.958\n",
      "\t Rock F1 Measure = 0.873\n",
      "Total Accuracy = 0.881033 \n"
     ]
    }
   ],
   "source": [
    "print('Decision Tree:')\n",
    "for index, row in map_class_pd.iterrows():\n",
    "    print(\"\\t %s precision = %0.3f \" % (row['genre_top'], metrics_dt.precision(row['label'])))\n",
    "    print(\"\\t %s recall = %0.3f\" % (row['genre_top'], metrics_dt.recall(row['label'])))\n",
    "    print(\"\\t %s F1 Measure = %0.3f\" % (row['genre_top'], metrics_dt.weightedFMeasure(row['label'])))\n",
    "print(\"Total Accuracy = %g \" % (metrics_dt.accuracy)) \n",
    "\n",
    "print('Logistic Regression:')\n",
    "for index, row in map_class_pd.iterrows():\n",
    "    print(\"\\t %s precision = %0.3f \" % (row['genre_top'], metrics_lr.precision(row['label'])))\n",
    "    print(\"\\t %s recall = %0.3f\" % (row['genre_top'], metrics_lr.recall(row['label'])))\n",
    "    print(\"\\t %s F1 Measure = %0.3f\" % (row['genre_top'], metrics_lr.weightedFMeasure(row['label'])))\n",
    "print(\"Total Accuracy = %g \" % (metrics_lr.accuracy))    \n"
   ]
  },
  {
   "cell_type": "markdown",
   "metadata": {
    "dc": {
     "key": "52"
    },
    "deletable": false,
    "editable": false,
    "run_control": {
     "frozen": true
    },
    "tags": [
     "context"
    ]
   },
   "source": [
    "## 8. Balance our data for greater performance\n",
    "<p>Both our models do similarly well, boasting an average precision of 87% each. However, looking at our classification report, we can see that rock songs are fairly well classified, but hip-hop songs are disproportionately misclassified as rock songs. </p>\n",
    "<p>Why might this be the case? Well, just by looking at the number of data points we have for each class, we see that we have far more data points for the rock classification than for hip-hop, potentially skewing our model's ability to distinguish between classes. This also tells us that most of our model's accuracy is driven by its ability to classify just rock songs, which is less than ideal.</p>\n",
    "<p>To account for this, we can weight the value of a correct classification in each class inversely to the occurrence of data points for each class. Since a correct classification for \"Rock\" is not more important than a correct classification for \"Hip-Hop\" (and vice versa), we only need to account for differences in <em>sample size</em> of our data points when weighting our classes here, and not relative importance of each class. </p>"
   ]
  },
  {
   "cell_type": "code",
   "execution_count": 21,
   "metadata": {},
   "outputs": [],
   "source": [
    "#Filtering the Labels to see the difference of rows for every label\n",
    "hop_only = pca_features.filter(pca_features.genre_top.contains('Hip-Hop'))\n",
    "rock_only = pca_features.filter(pca_features.genre_top.contains('Rock'))\n",
    "\n",
    "#Getting the value to resample\n",
    "sample_value = hop_only.count() / rock_only.count() \n",
    "sample_value\n",
    "\n",
    "rock_only = rock_only.sample(False, sample_value)\n",
    "\n",
    "#Getting all together again\n",
    "pca_features_sample = rock_only.union(hop_only)\n",
    "\n",
    "(trainingData, testData) = pca_features_sample.randomSplit([0.7, 0.3])"
   ]
  },
  {
   "cell_type": "markdown",
   "metadata": {
    "dc": {
     "key": "59"
    },
    "deletable": false,
    "editable": false,
    "run_control": {
     "frozen": true
    },
    "tags": [
     "context"
    ]
   },
   "source": [
    "## 9. Does balancing our dataset improve model bias?\n",
    "<p>We've now balanced our dataset, but in doing so, we've removed a lot of data points that might have been crucial to training our models. Let's test to see if balancing our data improves model bias towards the \"Rock\" classification while retaining overall classification performance. </p>\n",
    "<p>Note that we have already reduced the size of our dataset and will go forward without applying any dimensionality reduction. In practice, we would consider dimensionality reduction more rigorously when dealing with vastly large datasets and when computation times become prohibitively large.</p>"
   ]
  },
  {
   "cell_type": "code",
   "execution_count": 23,
   "metadata": {
    "dc": {
     "key": "59"
    },
    "tags": [
     "sample_code"
    ]
   },
   "outputs": [],
   "source": [
    "# Train our decision tree on the balanced data\n",
    "# Train a DecisionTree model.\n",
    "dt = DecisionTreeClassifier(labelCol=\"label\", featuresCol=\"indexedFeatures\", seed=42)\n",
    "pipeline_dt = Pipeline(stages=[labelIndexer, featureIndexer, dt])\n",
    "model_dt = pipeline_dt.fit(trainingData)\n",
    "predictions_dt = model_dt.transform(testData)\n",
    "\n",
    "# Train our logistic regression on the balanced data\n",
    "lr = LogisticRegression(labelCol=\"label\", featuresCol=\"indexedFeatures\")\n",
    "pipeline_lr = Pipeline(stages=[labelIndexer, featureIndexer, lr])\n",
    "model_lr = pipeline_lr.fit(trainingData)\n",
    "predictions_lr = model_lr.transform(testData)\n",
    "\n",
    "#Recreating Decision Tree metrics\n",
    "predictions_dt_rdd = predictions_dt.select(\"prediction\", \"label\")\n",
    "predictions_dt_rdd = predictions_dt_rdd.rdd\n",
    "metrics_dt = MulticlassMetrics(predictions_dt_rdd)\n",
    "\n",
    "#Recreating Logistic regression metrics\n",
    "predictions_lr_rdd = predictions_lr.select(\"prediction\", \"label\")\n",
    "predictions_lr_rdd = predictions_lr_rdd.rdd\n",
    "metrics_lr = MulticlassMetrics(predictions_lr_rdd)"
   ]
  },
  {
   "cell_type": "code",
   "execution_count": 24,
   "metadata": {},
   "outputs": [
    {
     "name": "stdout",
     "output_type": "stream",
     "text": [
      "Decision Tree:\n",
      "\t Hip-Hop precision = 0.792 \n",
      "\t Hip-Hop recall = 0.837\n",
      "\t Hip-Hop F1 Measure = 0.825\n",
      "\t Rock precision = 0.856 \n",
      "\t Rock recall = 0.815\n",
      "\t Rock F1 Measure = 0.827\n",
      "Total Accuracy = 0.825137 \n",
      "Logistic Regression:\n",
      "\t Hip-Hop precision = 0.829 \n",
      "\t Hip-Hop recall = 0.809\n",
      "\t Hip-Hop F1 Measure = 0.836\n",
      "\t Rock precision = 0.842 \n",
      "\t Rock recall = 0.859\n",
      "\t Rock F1 Measure = 0.836\n",
      "Total Accuracy = 0.836066 \n"
     ]
    }
   ],
   "source": [
    "print('Decision Tree:')\n",
    "for index, row in map_class_pd.iterrows():\n",
    "    print(\"\\t %s precision = %0.3f \" % (row['genre_top'], metrics_dt.precision(row['label'])))\n",
    "    print(\"\\t %s recall = %0.3f\" % (row['genre_top'], metrics_dt.recall(row['label'])))\n",
    "    print(\"\\t %s F1 Measure = %0.3f\" % (row['genre_top'], metrics_dt.weightedFMeasure(row['label'])))\n",
    "print(\"Total Accuracy = %g \" % (metrics_dt.accuracy)) \n",
    "\n",
    "print('Logistic Regression:')\n",
    "for index, row in map_class_pd.iterrows():\n",
    "    print(\"\\t %s precision = %0.3f \" % (row['genre_top'], metrics_lr.precision(row['label'])))\n",
    "    print(\"\\t %s recall = %0.3f\" % (row['genre_top'], metrics_lr.recall(row['label'])))\n",
    "    print(\"\\t %s F1 Measure = %0.3f\" % (row['genre_top'], metrics_lr.weightedFMeasure(row['label'])))\n",
    "print(\"Total Accuracy = %g \" % (metrics_lr.accuracy))    \n"
   ]
  },
  {
   "cell_type": "markdown",
   "metadata": {
    "dc": {
     "key": "66"
    },
    "deletable": false,
    "editable": false,
    "run_control": {
     "frozen": true
    },
    "tags": [
     "context"
    ]
   },
   "source": [
    "## 10. Using cross-validation to evaluate our models\n",
    "<p>Success! Balancing our data has removed bias towards the more prevalent class. To get a good sense of how well our models are actually performing, we can apply what's called <strong>cross-validation</strong> (CV). This step allows us to compare models in a more rigorous fashion.</p>\n",
    "<p>Since the way our data is split into train and test sets can impact model performance, CV attempts to split the data multiple ways and test the model on each of the splits. Although there are many different CV methods, all with their own advantages and disadvantages, we will use what's known as <strong>K-fold</strong> CV here. K-fold first splits the data into K different, equally sized subsets. Then, it iteratively uses each subset as a test set while using the remainder of the data as train sets. Finally, we can then aggregate the results from each fold for a final model performance score.</p>"
   ]
  },
  {
   "cell_type": "code",
   "execution_count": 47,
   "metadata": {},
   "outputs": [],
   "source": [
    "from pyspark.ml.tuning import CrossValidator, ParamGridBuilder\n",
    "\n",
    "# Create an empty parameter grid\n",
    "params = ParamGridBuilder().build()\n",
    "\n",
    "#Creating a cross validator for every Model\n",
    "evaluator_dt = MulticlassClassificationEvaluator(labelCol=\"label\", predictionCol=\"prediction\", metricName=\"accuracy\")\n",
    "evaluator_lr = MulticlassClassificationEvaluator(labelCol=\"label\", predictionCol=\"prediction\", metricName=\"accuracy\")\n",
    "\n",
    "dt_cv = CrossValidator(estimator=pipeline_dt, estimatorParamMaps=params, evaluator=evaluator_dt, numFolds=5)\n",
    "lr_cv = CrossValidator(estimator=pipeline_lr, estimatorParamMaps=params, evaluator=evaluator_lr, numFolds=5)\n",
    "\n",
    "\n",
    "dtModel = dt_cv.fit(pca_features)\n",
    "lrModel = lr_cv.fit(pca_features)"
   ]
  },
  {
   "cell_type": "code",
   "execution_count": 50,
   "metadata": {},
   "outputs": [],
   "source": [
    "acc_dt = evaluator_dt.evaluate(dtModel.transform(pca_features), {evaluator_dt.metricName: \"accuracy\"})\n",
    "acc_lr = evaluator_lr.evaluate(lrModel.transform(pca_features), {evaluator_lr.metricName: \"accuracy\"})"
   ]
  },
  {
   "cell_type": "code",
   "execution_count": 51,
   "metadata": {},
   "outputs": [
    {
     "name": "stdout",
     "output_type": "stream",
     "text": [
      "Decision tree Accuraccy 0.902540608\n",
      "Logistic Regression Accuraccy 0.878175760\n"
     ]
    }
   ],
   "source": [
    "print(\"Decision tree Accuraccy %0.9f\" % (acc_dt))\n",
    "print(\"Logistic Regression Accuraccy %0.9f\" % (acc_lr))"
   ]
  },
  {
   "cell_type": "code",
   "execution_count": null,
   "metadata": {},
   "outputs": [],
   "source": []
  }
 ],
 "metadata": {
  "kernelspec": {
   "display_name": "Python 3",
   "language": "python",
   "name": "python3"
  },
  "language_info": {
   "codemirror_mode": {
    "name": "ipython",
    "version": 3
   },
   "file_extension": ".py",
   "mimetype": "text/x-python",
   "name": "python",
   "nbconvert_exporter": "python",
   "pygments_lexer": "ipython3",
   "version": "3.7.3"
  }
 },
 "nbformat": 4,
 "nbformat_minor": 4
}
